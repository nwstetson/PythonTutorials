{
 "cells": [
  {
   "cell_type": "markdown",
   "id": "420658c2",
   "metadata": {},
   "source": [
    "# `NumPy`: Numerical operations in Python"
   ]
  },
  {
   "cell_type": "markdown",
   "id": "741f0ffe",
   "metadata": {},
   "source": [
    "This tutorial uses material also found in the [SciPy 1.0 Nature Methods](https://www.nature.com/articles/s41592-019-0686-2) and [NumPy Array IEEE](10.1109/MCSE.2011.37) article and at [https://numpy.org/](https://numpy.org/)."
   ]
  },
  {
   "cell_type": "markdown",
   "id": "be6f2c2e",
   "metadata": {},
   "source": [
    "### Learning outcomes:\n",
    " - Understand Python Library `NumPy`\n",
    " - Use `numpy arrays`\n",
    " - Apply loops and logical operators on `numpy arrays`"
   ]
  },
  {
   "cell_type": "markdown",
   "id": "ff32a2c3",
   "metadata": {},
   "source": [
    "Data scientists spend a lot of time – wait for it – working with ***data***! To work with **data** it is critical to organize the data in a way that facilitate the work on the potential analyses we might need to do. So organizing data means guessing what type of work we will want to do with the dataset. And, odd is it may seem, good guessing requires some practice. The data organization process will require: \n",
    "\n",
    "* store the data a clear and systematic way\n",
    "* provide methods to access the data that are simple and straightforward\n",
    "* be flexible enough so to and allow to modify the format of the data for various needs"
   ]
  },
  {
   "cell_type": "markdown",
   "id": "014aeb3f",
   "metadata": {},
   "source": [
    "NumPy is the fundamental `library` for mathematical operations and computations in Python. \n",
    "\n",
    "The NumPy array is a multidimensional array object. A variety of fast operations on arrays are provided by NumPy. These include operations that are mathematical, logical, shape manipulation, sorting, selecting, I/O, discrete Fourier transforms, basic linear algebra, basic statistical operations, random simulation and much more. \n",
    "\n",
    "NumPy is the base of scientific computing and data science libraries such as [Pandas](https://pandas.pydata.org/) [scipy.org](https://scipy.org/), and [scikit-learn.org](https://scikit-learn.org/) among many others."
   ]
  },
  {
   "cell_type": "markdown",
   "id": "f75b21d0",
   "metadata": {},
   "source": [
    "In other (simpler?) words, Numpy arrays are grids or tables for holding, accessing, and manipulating data. They are created and accessed in ways that are very similar to the ways Python `lists` can be accessed.\n",
    "\n",
    "So what we are going to do is to recall how `lists` work (lists are handy!), then we will graduate to `numpy arrays` and see what they can do. "
   ]
  },
  {
   "cell_type": "markdown",
   "id": "2be116d5",
   "metadata": {},
   "source": [
    "### Python lists"
   ]
  },
  {
   "cell_type": "markdown",
   "id": "c0099343",
   "metadata": {},
   "source": [
    "We have covered Python `lists` (and other datatypes) in previous tutorials. Python `lists` (a list of things) is build by collecting, ahem, a list of things using `[square brackets]`.\n",
    "\n",
    "For example:"
   ]
  },
  {
   "cell_type": "code",
   "execution_count": 1,
   "id": "42710c7c",
   "metadata": {},
   "outputs": [],
   "source": [
    "mylist = ['this', 3, 'list', 4+2j, 6.66]"
   ]
  },
  {
   "cell_type": "markdown",
   "id": "2a97c258",
   "metadata": {},
   "source": [
    "We can address elements in a list by using indices and the `:` (colon) operator."
   ]
  },
  {
   "cell_type": "code",
   "execution_count": 2,
   "id": "0a06fd7b",
   "metadata": {},
   "outputs": [
    {
     "data": {
      "text/plain": [
       "['this', 3, 'list']"
      ]
     },
     "execution_count": 2,
     "metadata": {},
     "output_type": "execute_result"
    }
   ],
   "source": [
    "mylist[0:3]"
   ]
  },
  {
   "cell_type": "markdown",
   "id": "09ae6a64",
   "metadata": {},
   "source": [
    "We can read this as \"Give me all the elements in the interval between 0 **inclusive** to 3 **exclusive**.\"\n",
    "\n",
    "I know this is weird. But at least for any two indexes `a` and `b`, the number of elements you get back from `mylist[a,b]` is always equal to `b` minus `a`, so I guess that's good!"
   ]
  },
  {
   "cell_type": "markdown",
   "id": "97c3441e",
   "metadata": {},
   "source": [
    "We can get any consecutive hunk of elements using `:`."
   ]
  },
  {
   "cell_type": "code",
   "execution_count": 3,
   "id": "24a6dbc5",
   "metadata": {},
   "outputs": [
    {
     "data": {
      "text/plain": [
       "['list', (4+2j), 6.66]"
      ]
     },
     "execution_count": 3,
     "metadata": {},
     "output_type": "execute_result"
    }
   ],
   "source": [
    "mylist[2:5]"
   ]
  },
  {
   "cell_type": "markdown",
   "id": "432eb54a",
   "metadata": {},
   "source": [
    "If you omit the indexes, Python will assume you want everything."
   ]
  },
  {
   "cell_type": "code",
   "execution_count": 4,
   "id": "f32671ee",
   "metadata": {},
   "outputs": [
    {
     "data": {
      "text/plain": [
       "['this', 3, 'list', (4+2j), 6.66]"
      ]
     },
     "execution_count": 4,
     "metadata": {},
     "output_type": "execute_result"
    }
   ],
   "source": [
    "mylist[:]"
   ]
  },
  {
   "cell_type": "markdown",
   "id": "10b541d0",
   "metadata": {},
   "source": [
    "List can obviously host also homogeneous types of data, such as `int` or `float`:"
   ]
  },
  {
   "cell_type": "code",
   "execution_count": 5,
   "id": "8b1ab9a8",
   "metadata": {},
   "outputs": [],
   "source": [
    "mylistHomogeneous = [2, 3.14, 10.5, 11.13, 12.7, 4.31]"
   ]
  },
  {
   "cell_type": "markdown",
   "id": "25008f33",
   "metadata": {},
   "source": [
    "### Numpy Arrays"
   ]
  },
  {
   "cell_type": "markdown",
   "id": "bbeacd1c",
   "metadata": {},
   "source": [
    "Numpy arrays were designed to be lists with superpowers, so everything we learned about  `lists` will apply to `numpy arrays` as well!"
   ]
  },
  {
   "cell_type": "markdown",
   "id": "2da5f66c",
   "metadata": {},
   "source": [
    "A NumPy array is a multidimensional, uniform collection of elements (that is, all elements occupy the same number of bytes in memory). An array is characterized by\n",
    " - the type of elements it contains and\n",
    " - its shape. \n",
    " \n",
    "For example, a matrix might be represented as an array of shape M×N that contains numbers, such as floating-point or complex numbers. Unlike matrices, NumPy arrays can have up to 32 dimensions; they might also contain other kinds of elements (or even combinations of elements), such as Booleans or dates. [Ref. Van Der Walt et al. IEEE](10.1109/MCSE.2011.37)"
   ]
  },
  {
   "cell_type": "markdown",
   "id": "0b6d0528",
   "metadata": {},
   "source": [
    "Not to state the obvious, but to use `numpy arrays`, we'll need to `import` the library `numpy`. The standard is to import `numpy` as `np`:"
   ]
  },
  {
   "cell_type": "code",
   "execution_count": 2,
   "id": "43a39707",
   "metadata": {},
   "outputs": [],
   "source": [
    "import numpy as np"
   ]
  },
  {
   "cell_type": "markdown",
   "id": "7fd20cd7",
   "metadata": {},
   "source": [
    "`arrays` can be made by simply asking for one and filling it out with values, in much the same way we make a `list`."
   ]
  },
  {
   "cell_type": "code",
   "execution_count": 8,
   "id": "26c71a2f",
   "metadata": {},
   "outputs": [],
   "source": [
    "myarr = np.array([2, 4, 6, 8, 9, 10])"
   ]
  },
  {
   "cell_type": "markdown",
   "id": "3c9118a7",
   "metadata": {},
   "source": [
    "The command `print` can be used also on `NumPy arrays` and it returns the content of the array:"
   ]
  },
  {
   "cell_type": "code",
   "execution_count": 9,
   "id": "582f0f51",
   "metadata": {},
   "outputs": [
    {
     "name": "stdout",
     "output_type": "stream",
     "text": [
      "[ 2  4  6  8  9 10]\n"
     ]
    }
   ],
   "source": [
    "print(myarr)"
   ]
  },
  {
   "cell_type": "markdown",
   "id": "010710d6",
   "metadata": {},
   "source": [
    "By simply returning the array object name (`myarr`) the output is a bit more informative and it returns the type (`array`):"
   ]
  },
  {
   "cell_type": "code",
   "execution_count": 10,
   "id": "f5cffedf",
   "metadata": {},
   "outputs": [
    {
     "data": {
      "text/plain": [
       "array([ 2,  4,  6,  8,  9, 10])"
      ]
     },
     "execution_count": 10,
     "metadata": {},
     "output_type": "execute_result"
    }
   ],
   "source": [
    "myarr"
   ]
  },
  {
   "cell_type": "markdown",
   "id": "620cc900",
   "metadata": {},
   "source": [
    "From then on, all the indexing we've learned so far applies directly! Square brackets are used for indexing and the same type of addressing can be used as we have learned for `lists`:"
   ]
  },
  {
   "cell_type": "code",
   "execution_count": 11,
   "id": "3d71ad59",
   "metadata": {},
   "outputs": [
    {
     "data": {
      "text/plain": [
       "9"
      ]
     },
     "execution_count": 11,
     "metadata": {},
     "output_type": "execute_result"
    }
   ],
   "source": [
    "myarr[4]"
   ]
  },
  {
   "cell_type": "code",
   "execution_count": 12,
   "id": "c363d45e",
   "metadata": {},
   "outputs": [
    {
     "data": {
      "text/plain": [
       "array([ 8,  9, 10])"
      ]
     },
     "execution_count": 12,
     "metadata": {},
     "output_type": "execute_result"
    }
   ],
   "source": [
    "myarr[-3:]"
   ]
  },
  {
   "cell_type": "markdown",
   "id": "cfef2a0a",
   "metadata": {},
   "source": [
    "$\\color{blue}{\\text{Complete the following exercise.}}$\n",
    "\n",
    "  - Create a `NumPy array` containing both `int`, `float` and `complex` datatypes.\n",
    "\n",
    "  [Use the cell below to show your code]"
   ]
  },
  {
   "cell_type": "code",
   "execution_count": 13,
   "id": "687db55e",
   "metadata": {},
   "outputs": [],
   "source": [
    "otherarr = np.array([2, 5.6, 8j])"
   ]
  },
  {
   "cell_type": "markdown",
   "id": "9eef86ca",
   "metadata": {},
   "source": [
    "  - Create a `NumPy array` containing `str` as datatypes.\n",
    "\n",
    "  [Use the cell below to show your code]"
   ]
  },
  {
   "cell_type": "code",
   "execution_count": 16,
   "id": "75af8e7c",
   "metadata": {},
   "outputs": [],
   "source": [
    "withStr = np.array([\"raccoon\", \"squirrel\", \"moose\"])"
   ]
  },
  {
   "cell_type": "markdown",
   "id": "0b02fa87",
   "metadata": {},
   "source": [
    "### Operations on `numpy arrays`: the difference between `lists` and `arrays`\n",
    "Indeed, we can make an array directly out of a list."
   ]
  },
  {
   "cell_type": "code",
   "execution_count": 14,
   "id": "a3b92752",
   "metadata": {},
   "outputs": [],
   "source": [
    "myArrFromList = np.array(mylistHomogeneous)"
   ]
  },
  {
   "cell_type": "code",
   "execution_count": 15,
   "id": "f2284fad",
   "metadata": {},
   "outputs": [
    {
     "data": {
      "text/plain": [
       "array([ 2.  ,  3.14, 10.5 , 11.13, 12.7 ,  4.31])"
      ]
     },
     "execution_count": 15,
     "metadata": {},
     "output_type": "execute_result"
    }
   ],
   "source": [
    "myArrFromList"
   ]
  },
  {
   "cell_type": "markdown",
   "id": "617126a6",
   "metadata": {},
   "source": [
    "And then of course we can index it exactly the same way, so... *Wait, why are we making arrays now? What's the difference?*"
   ]
  },
  {
   "cell_type": "markdown",
   "id": "c860495f",
   "metadata": {},
   "source": [
    "One **huge** difference is that if we wanted to do some math with basic Python lists, the fact that they can hold multiple types of data elements does not assure that the mathematical operations will perform."
   ]
  },
  {
   "cell_type": "code",
   "execution_count": 17,
   "id": "87a02129",
   "metadata": {},
   "outputs": [
    {
     "ename": "TypeError",
     "evalue": "can only concatenate list (not \"int\") to list",
     "output_type": "error",
     "traceback": [
      "\u001b[0;31m---------------------------------------------------------------------------\u001b[0m",
      "\u001b[0;31mTypeError\u001b[0m                                 Traceback (most recent call last)",
      "\u001b[0;32m/var/folders/bs/pn7ld5t53fxf8nmm_vmc3p9c0000gn/T/ipykernel_2103/2128240915.py\u001b[0m in \u001b[0;36m<module>\u001b[0;34m\u001b[0m\n\u001b[0;32m----> 1\u001b[0;31m \u001b[0mmylistHomogeneous\u001b[0m \u001b[0;34m+\u001b[0m \u001b[0;36m5\u001b[0m\u001b[0;34m\u001b[0m\u001b[0;34m\u001b[0m\u001b[0m\n\u001b[0m",
      "\u001b[0;31mTypeError\u001b[0m: can only concatenate list (not \"int\") to list"
     ]
    }
   ],
   "source": [
    "mylistHomogeneous + 5"
   ]
  },
  {
   "cell_type": "markdown",
   "id": "8691df4b",
   "metadata": {},
   "source": [
    "`numpy` arrays instead contain numerical elements by definition. This definition assures the ability to perform math ith the arrays. So, whereas the addition above did not work when using the `list`, it does work when using the `numpy` array, even though both `list` and `array` contain the same elements!"
   ]
  },
  {
   "cell_type": "code",
   "execution_count": 18,
   "id": "056f7707",
   "metadata": {},
   "outputs": [
    {
     "data": {
      "text/plain": [
       "array([ 7.  ,  8.14, 15.5 , 16.13, 17.7 ,  9.31])"
      ]
     },
     "execution_count": 18,
     "metadata": {},
     "output_type": "execute_result"
    }
   ],
   "source": [
    "myArrFromList + 5"
   ]
  },
  {
   "cell_type": "markdown",
   "id": "c5cd22ea",
   "metadata": {},
   "source": [
    "Now **that** seems like it might be useful!"
   ]
  },
  {
   "cell_type": "markdown",
   "id": "b27b00fd",
   "metadata": {},
   "source": [
    "$\\color{blue}{\\text{Complete the following exercise.}}$\n",
    "\n",
    "  - What happens when you add a number to a `NumPy array`? How do the content of the array change?\n",
    "\n",
    "  [When you add a number to an array it increases each value in the list by the number (e.g. 7.9 becomes 12.9)]"
   ]
  },
  {
   "cell_type": "markdown",
   "id": "3c1e2e88",
   "metadata": {},
   "source": []
  },
  {
   "cell_type": "markdown",
   "id": "5a773b69",
   "metadata": {},
   "source": [
    "  - Create a new `array` and multiply the array by a complex number:\n",
    "\n",
    "  [Use the cell below to show your code]"
   ]
  },
  {
   "cell_type": "code",
   "execution_count": 20,
   "id": "81ae359b",
   "metadata": {},
   "outputs": [
    {
     "data": {
      "text/plain": [
       "array([0.+16.j, 0.+40.j, 0.+72.j, 0.+88.j])"
      ]
     },
     "execution_count": 20,
     "metadata": {},
     "output_type": "execute_result"
    }
   ],
   "source": [
    "complexArray = np.array([2, 5, 9, 11])\n",
    "complexArray * 8j"
   ]
  },
  {
   "cell_type": "markdown",
   "id": "d8d02957",
   "metadata": {},
   "source": [
    "    [Numpy doesn't know how much j is, so it took every item in the sequence, multiplied it by 8, and put j after]"
   ]
  },
  {
   "cell_type": "markdown",
   "id": "0c8b6acf",
   "metadata": {},
   "source": [
    " "
   ]
  },
  {
   "cell_type": "markdown",
   "id": "f2415291",
   "metadata": {},
   "source": [
    "### More operations on `arrays`"
   ]
  },
  {
   "cell_type": "markdown",
   "id": "ac4de629",
   "metadata": {},
   "source": [
    "Two arrays can be added, or subtracted, or multiplied or whatever!"
   ]
  },
  {
   "cell_type": "code",
   "execution_count": 21,
   "id": "44e6b598",
   "metadata": {},
   "outputs": [
    {
     "data": {
      "text/plain": [
       "array([ 4.  ,  7.14, 16.5 , 19.13, 21.7 , 14.31])"
      ]
     },
     "execution_count": 21,
     "metadata": {},
     "output_type": "execute_result"
    }
   ],
   "source": [
    "myarr + myArrFromList"
   ]
  },
  {
   "cell_type": "code",
   "execution_count": 22,
   "id": "29ebb25a",
   "metadata": {},
   "outputs": [
    {
     "data": {
      "text/plain": [
       "array([  4.  ,  12.56,  63.  ,  89.04, 114.3 ,  43.1 ])"
      ]
     },
     "execution_count": 22,
     "metadata": {},
     "output_type": "execute_result"
    }
   ],
   "source": [
    "myarr * myArrFromList"
   ]
  },
  {
   "cell_type": "code",
   "execution_count": 23,
   "id": "6d3f210c",
   "metadata": {},
   "outputs": [
    {
     "data": {
      "text/plain": [
       "array([1.        , 1.27388535, 0.57142857, 0.71877808, 0.70866142,\n",
       "       2.32018561])"
      ]
     },
     "execution_count": 23,
     "metadata": {},
     "output_type": "execute_result"
    }
   ],
   "source": [
    "myarr / myArrFromList"
   ]
  },
  {
   "cell_type": "markdown",
   "id": "9514eea5",
   "metadata": {},
   "source": [
    "We can also **combine** our 2 arrays into a single ***two dimensional (2D) array***."
   ]
  },
  {
   "cell_type": "code",
   "execution_count": 24,
   "id": "15773b73",
   "metadata": {},
   "outputs": [],
   "source": [
    "twoDarr = np.array([myarr, myArrFromList])"
   ]
  },
  {
   "cell_type": "code",
   "execution_count": 25,
   "id": "38d0cb66",
   "metadata": {},
   "outputs": [
    {
     "data": {
      "text/plain": [
       "array([[ 2.  ,  4.  ,  6.  ,  8.  ,  9.  , 10.  ],\n",
       "       [ 2.  ,  3.14, 10.5 , 11.13, 12.7 ,  4.31]])"
      ]
     },
     "execution_count": 25,
     "metadata": {},
     "output_type": "execute_result"
    }
   ],
   "source": [
    "twoDarr"
   ]
  },
  {
   "cell_type": "markdown",
   "id": "cc081a09",
   "metadata": {},
   "source": [
    "Simple though this may seem, *2D arrays just like this are the bedrock of data analysis!* Arrays of real data are usually larger – sometimes much much larger! – but all the principles are the same and all you as a Data Scientists need to remember is the dimensionality of the data arrays. Python will then compute what you ask for."
   ]
  },
  {
   "cell_type": "markdown",
   "id": "512de187",
   "metadata": {},
   "source": [
    "But, hold on one second. Remembering the dimensionality of the array is ** *very* ** imoortant. Indeed Python can perform some operations if two arrays do *not* have the same dimensions, but other operations are likely to fail.\n",
    "\n",
    "For example, imagine two `arrays` with different dimensions:"
   ]
  },
  {
   "cell_type": "code",
   "execution_count": 26,
   "id": "df19c2bd",
   "metadata": {},
   "outputs": [],
   "source": [
    "smallArray = [2, 3, 4]\n",
    "largeArray = [2, 3, 4, 5, 6, 7]"
   ]
  },
  {
   "cell_type": "markdown",
   "id": "dd3dc621",
   "metadata": {},
   "source": [
    "The two arrays can be added together by using the symbol `+`:"
   ]
  },
  {
   "cell_type": "code",
   "execution_count": 27,
   "id": "46acd3f1",
   "metadata": {},
   "outputs": [
    {
     "data": {
      "text/plain": [
       "[2, 3, 4, 2, 3, 4, 5, 6, 7]"
      ]
     },
     "execution_count": 27,
     "metadata": {},
     "output_type": "execute_result"
    }
   ],
   "source": [
    "smallArray + largeArray"
   ]
  },
  {
   "cell_type": "markdown",
   "id": "e0580b3e",
   "metadata": {},
   "source": [
    "Yet, the same two arrays cannot be multiplied:"
   ]
  },
  {
   "cell_type": "code",
   "execution_count": 28,
   "id": "325e8112",
   "metadata": {},
   "outputs": [
    {
     "ename": "TypeError",
     "evalue": "can't multiply sequence by non-int of type 'list'",
     "output_type": "error",
     "traceback": [
      "\u001b[0;31m---------------------------------------------------------------------------\u001b[0m",
      "\u001b[0;31mTypeError\u001b[0m                                 Traceback (most recent call last)",
      "\u001b[0;32m/var/folders/bs/pn7ld5t53fxf8nmm_vmc3p9c0000gn/T/ipykernel_2103/1369612906.py\u001b[0m in \u001b[0;36m<module>\u001b[0;34m\u001b[0m\n\u001b[0;32m----> 1\u001b[0;31m \u001b[0msmallArray\u001b[0m \u001b[0;34m*\u001b[0m \u001b[0mlargeArray\u001b[0m\u001b[0;34m\u001b[0m\u001b[0;34m\u001b[0m\u001b[0m\n\u001b[0m",
      "\u001b[0;31mTypeError\u001b[0m: can't multiply sequence by non-int of type 'list'"
     ]
    }
   ],
   "source": [
    "smallArray * largeArray"
   ]
  },
  {
   "cell_type": "markdown",
   "id": "1267deda",
   "metadata": {},
   "source": [
    "This is because Python cannot identify elements to match during the multiplication."
   ]
  },
  {
   "cell_type": "markdown",
   "id": "2ffafdbf",
   "metadata": {},
   "source": [
    "$\\color{blue}{\\text{Complete the following exercise.}}$\n",
    "\n",
    "  - What happens when you add two arrays of different dimensions? Say one array with 6 complex numers and one with 4 `float` numbers?\n",
    "\n",
    "      [Use the cell below to show how to create and add the two arrays]"
   ]
  },
  {
   "cell_type": "code",
   "execution_count": 31,
   "id": "496cf70b",
   "metadata": {},
   "outputs": [
    {
     "data": {
      "text/plain": [
       "[(8+8j),\n",
       " (343+8j),\n",
       " (6+9j),\n",
       " (7+9j),\n",
       " (0.2+11j),\n",
       " (5+0.5j),\n",
       " 8.6,\n",
       " 2423.7,\n",
       " 209.6,\n",
       " 0.01]"
      ]
     },
     "execution_count": 31,
     "metadata": {},
     "output_type": "execute_result"
    }
   ],
   "source": [
    "array6d = [8+8j, 343+8j, 6+9j, 7+9j, 0.2+11j, 5+0.5j]\n",
    "array4d = [8.6, 2423.7, 209.6, 0.01]\n",
    "\n",
    "array6d + array4d"
   ]
  },
  {
   "cell_type": "markdown",
   "id": "063a3fbd",
   "metadata": {},
   "source": [
    "    [It combined both of the arrays into one really long array]"
   ]
  },
  {
   "cell_type": "markdown",
   "id": "25eb7e66",
   "metadata": {},
   "source": []
  },
  {
   "cell_type": "markdown",
   "id": "8a781202",
   "metadata": {},
   "source": [
    "### Methods of `numpy arrays`"
   ]
  },
  {
   "cell_type": "markdown",
   "id": "00649964",
   "metadata": {},
   "source": [
    "So the shape of the array (the dimensionality) is key, especially if we plan on doing math with the arrays, whihc is the primary goal of the arrays! "
   ]
  },
  {
   "cell_type": "markdown",
   "id": "f411c993",
   "metadata": {},
   "source": [
    "`numpy arrays` are Python objects and as such they have `methods`. A variety of methods exist for the array and `shape` is the one that allow us to retrieve the dimensionality of an array."
   ]
  },
  {
   "cell_type": "code",
   "execution_count": 32,
   "id": "e2576396",
   "metadata": {},
   "outputs": [
    {
     "data": {
      "text/plain": [
       "(2, 6)"
      ]
     },
     "execution_count": 32,
     "metadata": {},
     "output_type": "execute_result"
    }
   ],
   "source": [
    "twoDarr.shape"
   ]
  },
  {
   "cell_type": "markdown",
   "id": "d1939541",
   "metadata": {},
   "source": [
    "Unlike lists, which are always just lists, arrays can come in any shape. So it's *really* convenient that they can tell us what shape they are straight away."
   ]
  },
  {
   "cell_type": "markdown",
   "id": "50a84cdc",
   "metadata": {},
   "source": [
    "Indexing into 2D arrays is a straightforward extension of indexing into 1D arrays or lists. We just provide a second index after a `,` (comma). Like this."
   ]
  },
  {
   "cell_type": "code",
   "execution_count": 33,
   "id": "a175553a",
   "metadata": {},
   "outputs": [
    {
     "data": {
      "text/plain": [
       "11.13"
      ]
     },
     "execution_count": 33,
     "metadata": {},
     "output_type": "execute_result"
    }
   ],
   "source": [
    "twoDarr[1,3]"
   ]
  },
  {
   "cell_type": "markdown",
   "id": "073d6afa",
   "metadata": {},
   "source": [
    "The first index refers to the **row index**, and the second to the **column index**. In this case, we're asking for the value in the second row and the fourth column, which is indeed 7 (remember *the first row and column are index=0!*)."
   ]
  },
  {
   "cell_type": "markdown",
   "id": "23ee8afa",
   "metadata": {},
   "source": [
    "We can play all the same games indexing with 2D arrays as we can with 1D arrays, we just have to remember that everything before the comma `,` refers to the *rows* in that it specifies locations along the *vertical dimension*, and everything after the comma `,` refers to the *columns* in that it specifies locations along the *horizontal dimension*."
   ]
  },
  {
   "cell_type": "markdown",
   "id": "750f6f9e",
   "metadata": {},
   "source": [
    "So this:"
   ]
  },
  {
   "cell_type": "code",
   "execution_count": 34,
   "id": "f5d9f101",
   "metadata": {},
   "outputs": [
    {
     "data": {
      "text/plain": [
       "array([[ 2.  ,  4.  ,  6.  ],\n",
       "       [ 2.  ,  3.14, 10.5 ]])"
      ]
     },
     "execution_count": 34,
     "metadata": {},
     "output_type": "execute_result"
    }
   ],
   "source": [
    "twoDarr[:,0:3]"
   ]
  },
  {
   "cell_type": "markdown",
   "id": "4f3af80b",
   "metadata": {},
   "source": [
    "means \"Give me all the rows (the colon `:`) in the first 3 columns (the \"`0:3`).\"\n",
    "\n",
    "I told you that the colon all alone by itself would end up being useful!!! In this case for example, by using the `:` you do not need to type many indices (one per row) and you even do not need to remmeber how many rows there are, just use `:` and Python will return all the elements."
   ]
  },
  {
   "cell_type": "markdown",
   "id": "a6a63346",
   "metadata": {},
   "source": [
    "A few more examples:"
   ]
  },
  {
   "cell_type": "code",
   "execution_count": 35,
   "id": "d8b88d71",
   "metadata": {},
   "outputs": [
    {
     "data": {
      "text/plain": [
       "array([ 2.  ,  3.14, 10.5 , 11.13, 12.7 ,  4.31])"
      ]
     },
     "execution_count": 35,
     "metadata": {},
     "output_type": "execute_result"
    }
   ],
   "source": [
    "# the last row (regardless of the number of rows, \n",
    "# again you do not need to knowhow many rows exist)\n",
    "twoDarr[-1,:] "
   ]
  },
  {
   "cell_type": "code",
   "execution_count": 36,
   "id": "1cec900f",
   "metadata": {},
   "outputs": [
    {
     "data": {
      "text/plain": [
       "array([[ 9.  , 10.  ],\n",
       "       [12.7 ,  4.31]])"
      ]
     },
     "execution_count": 36,
     "metadata": {},
     "output_type": "execute_result"
    }
   ],
   "source": [
    "twoDarr[:,-2:] # last two columns"
   ]
  },
  {
   "cell_type": "code",
   "execution_count": 37,
   "id": "2cb04019",
   "metadata": {},
   "outputs": [
    {
     "data": {
      "text/plain": [
       "array([2., 6., 9.])"
      ]
     },
     "execution_count": 37,
     "metadata": {},
     "output_type": "execute_result"
    }
   ],
   "source": [
    "twoDarr[0,::2] # first row, every other column"
   ]
  },
  {
   "cell_type": "markdown",
   "id": "500e0aba",
   "metadata": {},
   "source": [
    "To get good at this, you don't need natural born talent or anything like that. Like so much in life, the key is *practice, practice, practice*!!! So play around! You can't break your computer or anything!"
   ]
  },
  {
   "cell_type": "markdown",
   "id": "cf0e9f4a",
   "metadata": {},
   "source": [
    "Another neat trick that arrays can do is *transpose* themselves, flipping the rows for columns.\n",
    "\n",
    "(Hold your right hand in front of your face so that you're looking at your palm with your fingers pointing towards the left. Now flip your hand so that you're looking at the back of your hand with your fingers pointing up. You just *transposed* your hand such that the first row (your pointer finger) became the first column!)"
   ]
  },
  {
   "cell_type": "code",
   "execution_count": 38,
   "id": "83665f10",
   "metadata": {},
   "outputs": [],
   "source": [
    "colarr = twoDarr.T"
   ]
  },
  {
   "cell_type": "code",
   "execution_count": 39,
   "id": "40bd0891",
   "metadata": {},
   "outputs": [
    {
     "data": {
      "text/plain": [
       "array([[ 2.  ,  2.  ],\n",
       "       [ 4.  ,  3.14],\n",
       "       [ 6.  , 10.5 ],\n",
       "       [ 8.  , 11.13],\n",
       "       [ 9.  , 12.7 ],\n",
       "       [10.  ,  4.31]])"
      ]
     },
     "execution_count": 39,
     "metadata": {},
     "output_type": "execute_result"
    }
   ],
   "source": [
    "colarr"
   ]
  },
  {
   "cell_type": "markdown",
   "id": "e3ae4342",
   "metadata": {},
   "source": [
    "Why would we want to do that? By convention, *variables* in datasets should correspond to the columns, and *observations* should correspond to the rows. So we have taken data in which this was not so and turned it into an array in which the columns are the first few non-prime numbers and the prime numbers, respectively, and the rows correspond to the instances in order (1st , 2nd, 3rd, ....).\n",
    "\n",
    "We have just done a little of what is known as **data wrangling**. While not as fun as data visualization, data wrangling is often a big part of any analysis project!"
   ]
  },
  {
   "cell_type": "markdown",
   "id": "dc7f79aa",
   "metadata": {},
   "source": [
    "Now that we have the data into shape, we can unleash all the powers of numpy arrays, powers which pandas DataFrames will inherit and build upon!"
   ]
  },
  {
   "cell_type": "markdown",
   "id": "663d153f",
   "metadata": {},
   "source": [
    "For example, who's bigger overall, the primes or the non-primes?"
   ]
  },
  {
   "cell_type": "code",
   "execution_count": 40,
   "id": "e7768011",
   "metadata": {},
   "outputs": [
    {
     "data": {
      "text/plain": [
       "array([39.  , 43.78])"
      ]
     },
     "execution_count": 40,
     "metadata": {},
     "output_type": "execute_result"
    }
   ],
   "source": [
    "colarr.sum(0)"
   ]
  },
  {
   "cell_type": "markdown",
   "id": "4f693f3d",
   "metadata": {},
   "source": [
    "The primes win! \n",
    "In `colarr.sum(0)`, the 0 means \"the first (vertical) dimension\", i.e., sum the values *across the rows* within each column. To sum along the second dimension, we do:"
   ]
  },
  {
   "cell_type": "code",
   "execution_count": 41,
   "id": "2f1481ec",
   "metadata": {},
   "outputs": [
    {
     "data": {
      "text/plain": [
       "array([ 4.  ,  7.14, 16.5 , 19.13, 21.7 , 14.31])"
      ]
     },
     "execution_count": 41,
     "metadata": {},
     "output_type": "execute_result"
    }
   ],
   "source": [
    "colarr.sum(1)"
   ]
  },
  {
   "cell_type": "markdown",
   "id": "ec5f46b4",
   "metadata": {},
   "source": [
    "So any numpy array knows how to add up the numbers in it by row or by column (see what happens if you leave off the dimension, like this `colarr.sum()`. The list of things that numpy arrays can do themselves is pretty impressive.\n",
    "\n",
    "Check it out [here](https://numpy.org/doc/stable/reference/generated/numpy.ndarray.html).\n",
    "\n",
    "(or paste this into your browser: https://numpy.org/doc/stable/reference/generated/numpy.ndarray.html)"
   ]
  },
  {
   "cell_type": "markdown",
   "id": "338d6e62",
   "metadata": {},
   "source": [
    "$\\color{blue}{\\text{Complete the following exercise.}}$\n",
    "\n",
    "      - How many methods does a numpy array have? [7]\n",
    "  \n",
    "  - Create a new 2-dimensional array, and show the use of two methods not used above (`prod` and `round` could be two simple ones, but no pressure):\n",
    "  \n",
    "  [Use the cell below to show how to create and add the two arrays]\n",
    "  \n",
    "*Hint:* The symbol `?` can be used at the end of a method and that can help understand how to use the method, for example, `myarray.shape?`"
   ]
  },
  {
   "cell_type": "code",
   "execution_count": 65,
   "id": "de1d9b1f",
   "metadata": {},
   "outputs": [
    {
     "data": {
      "text/plain": [
       "array([[ 2.  ,  2.  ],\n",
       "       [ 4.  ,  3.14],\n",
       "       [ 6.  , 10.5 ],\n",
       "       [ 8.  , 11.13],\n",
       "       [ 9.  , 12.7 ],\n",
       "       [10.  ,  4.31]])"
      ]
     },
     "execution_count": 65,
     "metadata": {},
     "output_type": "execute_result"
    }
   ],
   "source": [
    "np.round(colarr, 2)"
   ]
  },
  {
   "cell_type": "markdown",
   "id": "ea8df3af",
   "metadata": {},
   "source": [
    "### `NumPy` methods to create arrays"
   ]
  },
  {
   "cell_type": "markdown",
   "id": "65048d77",
   "metadata": {},
   "source": [
    "Often, we want to create a array that we know we're going to put values in later. For example, we might be planning on doing a computation that will result in 3 sets of 7 values, and we want be able to store them directly into an array. We can pre-make an array filled with zeros with `np.zeros(r, c)`."
   ]
  },
  {
   "cell_type": "code",
   "execution_count": 66,
   "id": "9d2cf6a1",
   "metadata": {},
   "outputs": [],
   "source": [
    "myzeros = np.zeros((7, 3))"
   ]
  },
  {
   "cell_type": "code",
   "execution_count": 67,
   "id": "ebbeceb3",
   "metadata": {},
   "outputs": [
    {
     "data": {
      "text/plain": [
       "array([[0., 0., 0.],\n",
       "       [0., 0., 0.],\n",
       "       [0., 0., 0.],\n",
       "       [0., 0., 0.],\n",
       "       [0., 0., 0.],\n",
       "       [0., 0., 0.],\n",
       "       [0., 0., 0.]])"
      ]
     },
     "execution_count": 67,
     "metadata": {},
     "output_type": "execute_result"
    }
   ],
   "source": [
    "myzeros"
   ]
  },
  {
   "cell_type": "markdown",
   "id": "990f9543",
   "metadata": {},
   "source": [
    "Another handy method to create arrays is `ones`"
   ]
  },
  {
   "cell_type": "code",
   "execution_count": 68,
   "id": "d072457f",
   "metadata": {},
   "outputs": [],
   "source": [
    "myones = np.ones((3,4))"
   ]
  },
  {
   "cell_type": "code",
   "execution_count": 69,
   "id": "a1a1a3c2",
   "metadata": {},
   "outputs": [
    {
     "data": {
      "text/plain": [
       "array([[1., 1., 1., 1.],\n",
       "       [1., 1., 1., 1.],\n",
       "       [1., 1., 1., 1.]])"
      ]
     },
     "execution_count": 69,
     "metadata": {},
     "output_type": "execute_result"
    }
   ],
   "source": [
    "myones"
   ]
  },
  {
   "cell_type": "markdown",
   "id": "f29559ec",
   "metadata": {},
   "source": [
    "We will encounter other `NumPy` methods in later tutorials. For the time being one last method that will turn out very handy when modelling data:"
   ]
  },
  {
   "cell_type": "code",
   "execution_count": 8,
   "id": "531a6494",
   "metadata": {},
   "outputs": [
    {
     "name": "stdout",
     "output_type": "stream",
     "text": [
      "[-0.14488819 -1.13231812  0.01620204 -1.09052186  1.40547702  0.50697219\n",
      " -0.65392637  0.34511141 -0.47493227  1.01099914]\n"
     ]
    }
   ],
   "source": [
    "myRandomNumArray = np.random.randn(10)\n",
    "print(myRandomNumArray)"
   ]
  },
  {
   "cell_type": "markdown",
   "id": "2a9bf11a",
   "metadata": {},
   "source": [
    "The `numpy` submodule `random` contains a variety of methods to create arrays containing random numbers. Generating random numbers is helpful in many applications, for example, they can be used to create normally distributed noise, or data with normally distributed noise, etc. "
   ]
  },
  {
   "cell_type": "markdown",
   "id": "ac3fe9aa",
   "metadata": {},
   "source": [
    "$\\color{blue}{\\text{Complete the following exercise.}}$\n",
    "  \n",
    "  - Create a new 1-dimensional array of uniformly-distributed random number:\n",
    "  \n",
    "  [Use the cell below to show your code]\n"
   ]
  },
  {
   "cell_type": "code",
   "execution_count": 74,
   "id": "619a3b7a",
   "metadata": {},
   "outputs": [
    {
     "name": "stdout",
     "output_type": "stream",
     "text": [
      "[[-0.2479632 ]\n",
      " [-0.64473085]\n",
      " [ 2.16515432]\n",
      " [-0.18862796]\n",
      " [-1.41897361]]\n"
     ]
    }
   ],
   "source": [
    "RandomTime = np.random.randn(5, 1)\n",
    "print(RandomTime)"
   ]
  },
  {
   "cell_type": "markdown",
   "id": "f7fe529a",
   "metadata": {},
   "source": [
    "  \n",
    "  - Create a new  2-dimensional array of normally-distributed random number:\n",
    "  \n",
    "  [Use the cell below to show your code]\n"
   ]
  },
  {
   "cell_type": "code",
   "execution_count": 77,
   "id": "0e4e7eb6",
   "metadata": {},
   "outputs": [
    {
     "name": "stdout",
     "output_type": "stream",
     "text": [
      "[[1.34610253 0.19749806]\n",
      " [1.0474436  0.44916246]\n",
      " [0.06757039 2.04544356]\n",
      " [0.47862112 0.22213835]]\n"
     ]
    }
   ],
   "source": [
    "Random2 = np.random.randn(4, 2)\n",
    "print(Random2)"
   ]
  },
  {
   "cell_type": "markdown",
   "id": "9b4cf9fc",
   "metadata": {},
   "source": [
    "Let's now create a simple 1-D array and explore what happens when we add a number to the values and what happens when we multiply the numbers in the array:"
   ]
  },
  {
   "cell_type": "code",
   "execution_count": 78,
   "id": "8c45aea8",
   "metadata": {},
   "outputs": [],
   "source": [
    "size  = 20\n",
    "origArray = np.random.randn(size,1)"
   ]
  },
  {
   "cell_type": "markdown",
   "id": "76464a58",
   "metadata": {},
   "source": [
    "Let's look at the values in the array."
   ]
  },
  {
   "cell_type": "code",
   "execution_count": 79,
   "id": "60b2c57b",
   "metadata": {},
   "outputs": [
    {
     "name": "stdout",
     "output_type": "stream",
     "text": [
      "[[ 0.2115855 ]\n",
      " [ 1.17708753]\n",
      " [ 1.23444751]\n",
      " [-0.38603147]\n",
      " [-0.3806292 ]\n",
      " [ 0.64001628]\n",
      " [-0.04866768]\n",
      " [-1.3257974 ]\n",
      " [-0.39495495]\n",
      " [ 0.6135319 ]\n",
      " [ 1.40664808]\n",
      " [ 0.03317499]\n",
      " [ 0.1139021 ]\n",
      " [ 1.01034899]\n",
      " [-0.25355357]\n",
      " [-1.07046843]\n",
      " [-1.07380856]\n",
      " [-0.57477833]\n",
      " [ 0.43091213]\n",
      " [-0.16630417]]\n"
     ]
    }
   ],
   "source": [
    "print(origArray)"
   ]
  },
  {
   "cell_type": "markdown",
   "id": "20d92a80",
   "metadata": {},
   "source": [
    "There seem to be a variety of numbers, some positive, some negative, as expected because `randn` is supposed to generate numbers centered at 0 (i.e., with mean 0) and standard deviation of 1."
   ]
  },
  {
   "cell_type": "markdown",
   "id": "d78aba3b",
   "metadata": {},
   "source": [
    "Let's compute the standard deviation and mean of these numbers. Numpy provides to handy methods:"
   ]
  },
  {
   "cell_type": "code",
   "execution_count": 80,
   "id": "6cb0b1d9",
   "metadata": {},
   "outputs": [
    {
     "name": "stdout",
     "output_type": "stream",
     "text": [
      "['The mean is:', 0.059833062890262544]\n",
      "['the STD is:', 0.7680855943347649]\n"
     ]
    }
   ],
   "source": [
    "mean = np.mean(origArray)\n",
    "sd = np.std(origArray)\n",
    "print(['The mean is:', mean])\n",
    "print(['the STD is:', sd])"
   ]
  },
  {
   "cell_type": "markdown",
   "id": "1aac5969",
   "metadata": {},
   "source": [
    "Well, okay, the mean is not quite close to 0, but perhaps close enough? The standard deviation seems pretty close to the expected value of 1."
   ]
  },
  {
   "cell_type": "markdown",
   "id": "107aa591",
   "metadata": {},
   "source": [
    "$\\color{blue}{\\text{Complete the following exercise.}}$\n",
    "  \n",
    "  - Create a new 1-dimensional array of 100 normally-distributed random numbers:\n",
    "  \n",
    "  [Use the cell below to show your code]\n"
   ]
  },
  {
   "cell_type": "code",
   "execution_count": 88,
   "id": "c8db274a",
   "metadata": {},
   "outputs": [
    {
     "name": "stdout",
     "output_type": "stream",
     "text": [
      "['mean:', -0.004134985941426289]\n",
      "['sd:', 0.9266948290650447]\n"
     ]
    }
   ],
   "source": [
    "random100 = np.random.randn(100, 1)\n",
    "mean = np.mean(random100)\n",
    "sd = np.std(random100)\n",
    "\n",
    "print([ 'mean:', mean])\n",
    "print(['sd:', sd])"
   ]
  },
  {
   "cell_type": "markdown",
   "id": "da0fb155",
   "metadata": {},
   "source": [
    "   - What happens to the mean and standard deviation after increasing the size of the array? Are they closer of further from the expected values? Why? \n",
    "        \n",
    "  [The mean moves closer to 0 and the SD moves closer to 1]\n"
   ]
  },
  {
   "cell_type": "markdown",
   "id": "71a3bdb7",
   "metadata": {},
   "source": []
  },
  {
   "cell_type": "markdown",
   "id": "ad4a5ff3",
   "metadata": {},
   "source": [
    "What happens if we add 5 to the array?"
   ]
  },
  {
   "cell_type": "code",
   "execution_count": 89,
   "id": "57e99de9",
   "metadata": {},
   "outputs": [],
   "source": [
    "x  = 5 + origArray"
   ]
  },
  {
   "cell_type": "code",
   "execution_count": 90,
   "id": "0ee8c164",
   "metadata": {},
   "outputs": [
    {
     "name": "stdout",
     "output_type": "stream",
     "text": [
      "[[5.2115855 ]\n",
      " [6.17708753]\n",
      " [6.23444751]\n",
      " [4.61396853]\n",
      " [4.6193708 ]\n",
      " [5.64001628]\n",
      " [4.95133232]\n",
      " [3.6742026 ]\n",
      " [4.60504505]\n",
      " [5.6135319 ]\n",
      " [6.40664808]\n",
      " [5.03317499]\n",
      " [5.1139021 ]\n",
      " [6.01034899]\n",
      " [4.74644643]\n",
      " [3.92953157]\n",
      " [3.92619144]\n",
      " [4.42522167]\n",
      " [5.43091213]\n",
      " [4.83369583]]\n"
     ]
    }
   ],
   "source": [
    "print(x)"
   ]
  },
  {
   "cell_type": "markdown",
   "id": "d065eaf0",
   "metadata": {},
   "source": [
    "It looks like the values shifted. But how much? It looks like they recentered at 5, the value we added. So we can perhaps assume that now the distribution of numbers is normally distributed but with a mean of 5. The standard deviation has not bee changed. It is still at 1, trust me for the moment and let try multiplying the numbers."
   ]
  },
  {
   "cell_type": "code",
   "execution_count": 91,
   "id": "a462f822",
   "metadata": {},
   "outputs": [
    {
     "name": "stdout",
     "output_type": "stream",
     "text": [
      "[[ 0.42317099]\n",
      " [ 2.35417506]\n",
      " [ 2.46889503]\n",
      " [-0.77206295]\n",
      " [-0.7612584 ]\n",
      " [ 1.28003256]\n",
      " [-0.09733535]\n",
      " [-2.65159481]\n",
      " [-0.7899099 ]\n",
      " [ 1.2270638 ]\n",
      " [ 2.81329617]\n",
      " [ 0.06634999]\n",
      " [ 0.2278042 ]\n",
      " [ 2.02069798]\n",
      " [-0.50710715]\n",
      " [-2.14093686]\n",
      " [-2.14761712]\n",
      " [-1.14955666]\n",
      " [ 0.86182426]\n",
      " [-0.33260833]]\n"
     ]
    }
   ],
   "source": [
    "x  = 2 * origArray\n",
    "print(x)"
   ]
  },
  {
   "cell_type": "markdown",
   "id": "71e5a455",
   "metadata": {},
   "source": [
    "It looks like the values increased. There seem to be a larger variality, more bigger numbers, both negative and positive. So perhaps the STD is not at 1 anymore. Could it be at 2?"
   ]
  },
  {
   "cell_type": "markdown",
   "id": "ee254e49",
   "metadata": {},
   "source": [
    "$\\color{blue}{\\text{Complete the following exercise.}}$\n",
    "  \n",
    "  - Compute the mean, std and median of `x`:\n",
    "  \n",
    "  [Use the cell below to show your code]\n"
   ]
  },
  {
   "cell_type": "code",
   "execution_count": 96,
   "id": "dbd75e7e",
   "metadata": {},
   "outputs": [
    {
     "name": "stdout",
     "output_type": "stream",
     "text": [
      "mean is 0.11966612578052509\n",
      "std is 1.5361711886695297\n",
      "median is -0.015492680732325341\n"
     ]
    }
   ],
   "source": [
    "mean = np.mean(x)\n",
    "std = np.std(x)\n",
    "median = np.median(x)\n",
    "\n",
    "print(\"mean is\", mean)\n",
    "print(\"std is\", std)\n",
    "print('median is', median)"
   ]
  },
  {
   "cell_type": "markdown",
   "id": "3ef0de78",
   "metadata": {},
   "source": [
    "  \n",
    "  - What are the mean, std and median of `x`? Why, what is going on here?\n",
    "  \n",
    "the mean is 0.11966612578052509, the standard deviation is 1.5361711886695297, and the median is -0.015492680732325341. \n",
    "\n",
    "The mean is larger than the median, which means the data has a positive skew.\n"
   ]
  },
  {
   "cell_type": "markdown",
   "id": "5c595912",
   "metadata": {},
   "source": []
  },
  {
   "cell_type": "markdown",
   "id": "85056a39",
   "metadata": {},
   "source": [
    "### Summary"
   ]
  },
  {
   "cell_type": "markdown",
   "id": "0af07f25",
   "metadata": {},
   "source": [
    "So in this tutorial we have shown how to organize and manipulate data using Python `numpy` `arrays`.\n",
    "\n",
    "So those are the basics of numpy arrays. They:\n",
    "\n",
    "* store values in rows and columns\n",
    "* each dimension starts at index zero (like lists)\n",
    "* can be accessed using\n",
    "    - square brackets `[]` with row and column indexes separated by a comma\n",
    "    - integer indexes (including negative \"start from the end\" indexes)\n",
    "    - a colon `:` (or two if you want a step value other than 1)\n",
    "* can have maths done to every element in one go\n",
    "* can be added, subtracted, etc. from one another\n",
    "* have superpowers! they can compute stuff along their rows and columns!\n",
    "\n",
    "The operations that are available for these two data types will be the base for many things that you might need to do as a Data Scientist. "
   ]
  },
  {
   "cell_type": "markdown",
   "id": "bd832e70",
   "metadata": {},
   "source": [
    "`Numpy arrays` Can host a variety of data types. Although this might be too much for now, below a table of all the data types an `array` can support:"
   ]
  },
  {
   "cell_type": "markdown",
   "id": "c9b0ce9d",
   "metadata": {},
   "source": [
    "| Type\t| Description |\n",
    "| --- | --- |\n",
    "| bool |\tBoolean (True or False) stored as a bit (0, 1) |\n",
    "| inti\t| Platform integer (normally either int32 or int64) |\n",
    "| int8\t| Byte (-128 to 127) |\n",
    "| int16\t| Integer (-32768 to 32767) |\n",
    "| int32\t| Integer (-2 ** 31 to 2 ** 31 -1) |\n",
    "| int64\t| Integer (-2 ** 63 to 2 ** 63 -1) |\n",
    "| uint8\t| Unsigned integer (0 to 255) |\n",
    "| uint16\t| Unsigned integer (0 to 65535) |\n",
    "| uint32\t| Unsigned integer (0 to 2 ** 32 – 1) |\n",
    "| uint64\t| Unsigned integer (0 to 2 ** 64 – 1) |\n",
    "| float16\t| Half precision float: sign bit, 5 bits exponent, and 10 bits mantissa |\n",
    "| float32\t| Single precision float: sign bit, 8 bits exponent, and 23 bits mantissa |\n",
    "| float64 or float\t| Double precision float: sign bit, 11 bits exponent, and 52 bits mantissa |\n",
    "| complex64\t| Complex number, represented by two 32-bit floats (real and imaginary components) |\n",
    "| complex128 or complex\t| Complex number, represented by two 64-bit floats (real and imaginary components) |"
   ]
  },
  {
   "cell_type": "markdown",
   "id": "57c4bbcc",
   "metadata": {},
   "source": [
    "$\\color{blue}{\\text{Complete the following exercise.}}$\n",
    "  \n",
    "  - Generate an 1-D array of mean = 10 and std = 1.5:\n",
    "  \n",
    "  [Use the cell below to show your code]"
   ]
  },
  {
   "cell_type": "code",
   "execution_count": 7,
   "id": "7f0ea518",
   "metadata": {},
   "outputs": [
    {
     "name": "stdout",
     "output_type": "stream",
     "text": [
      "mean is 100.0\n",
      "std is 1.5\n"
     ]
    }
   ],
   "source": [
    "p = np.random.normal(loc=100, scale=1.5, size=1000)\n",
    "\n",
    "mean = np.mean(p)\n",
    "std = np.std(p)\n",
    "\n",
    "print(\"mean is\", np.round(mean, 1))\n",
    "print(\"std is\", np.round(std, 1))"
   ]
  }
 ],
 "metadata": {
  "kernelspec": {
   "display_name": "Python 3 (ipykernel)",
   "language": "python",
   "name": "python3"
  },
  "language_info": {
   "codemirror_mode": {
    "name": "ipython",
    "version": 3
   },
   "file_extension": ".py",
   "mimetype": "text/x-python",
   "name": "python",
   "nbconvert_exporter": "python",
   "pygments_lexer": "ipython3",
   "version": "3.9.7"
  }
 },
 "nbformat": 4,
 "nbformat_minor": 5
}
